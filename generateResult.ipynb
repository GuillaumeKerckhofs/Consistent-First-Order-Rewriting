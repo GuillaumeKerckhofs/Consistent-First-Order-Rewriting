{
 "cells": [
  {
   "cell_type": "code",
   "execution_count": 1,
   "id": "990c138a",
   "metadata": {},
   "outputs": [],
   "source": [
    "import subprocess\n",
    "import random\n",
    "\n",
    "size_db=[100,200,400,800,1600,3200,6400,12800,25600]"
   ]
  },
  {
   "cell_type": "code",
   "execution_count": 2,
   "id": "84228bb5",
   "metadata": {},
   "outputs": [],
   "source": [
    "def generate_database(i,q,c,t):\n",
    "    j=i+1000\n",
    "    nbr=0\n",
    "    db=\"\"\n",
    "    while(nbr<t):\n",
    "        if(q==0):\n",
    "            db=db+f'p({j},{j+2},{j+3}). s({j+2},0). r({j+3},{j+4},c). p({j},{j+4},{j+3}). s({j+4},0).'\n",
    "            nbr=nbr+2\n",
    "            if(not c):\n",
    "                tmp=random.randint(1,3)\n",
    "                if(tmp==1):\n",
    "                    db=db+f'p({j},{j+3},{j+3}).'\n",
    "                elif(tmp==2):\n",
    "                    db=db+f'p({j},{j+2},{j+2}).'\n",
    "                elif(tmp==3):\n",
    "                    db=db+f'r({j+3},{j+3},d).'\n",
    "                \n",
    "        else:\n",
    "            db=db+f'p({j},{j},{j},c). p({j},{j+1},{j+1},a). p({j+2},{j},{j+2},d). p({j+3},{j+3},{j},c).'\n",
    "            nbr=nbr+4\n",
    "            if(not c):\n",
    "                db=db+f'p({j+3},{j+3},{j},d).'\n",
    "                \n",
    "        j=j+10\n",
    "            \n",
    "    print(db)\n",
    "    return db"
   ]
  },
  {
   "cell_type": "code",
   "execution_count": 7,
   "id": "0442fa59",
   "metadata": {},
   "outputs": [
    {
     "name": "stdout",
     "output_type": "stream",
     "text": [
      "p(1000,1002,1003). s(1002,0). r(1003,1004,c). p(1000,1004,1003). s(1004,0).p(1010,1012,1013). s(1012,0). r(1013,1014,c). p(1010,1014,1013). s(1014,0).p(1020,1022,1023). s(1022,0). r(1023,1024,c). p(1020,1024,1023). s(1024,0).p(1030,1032,1033). s(1032,0). r(1033,1034,c). p(1030,1034,1033). s(1034,0).p(1040,1042,1043). s(1042,0). r(1043,1044,c). p(1040,1044,1043). s(1044,0).p(1050,1052,1053). s(1052,0). r(1053,1054,c). p(1050,1054,1053). s(1054,0).p(1060,1062,1063). s(1062,0). r(1063,1064,c). p(1060,1064,1063). s(1064,0).p(1070,1072,1073). s(1072,0). r(1073,1074,c). p(1070,1074,1073). s(1074,0).p(1080,1082,1083). s(1082,0). r(1083,1084,c). p(1080,1084,1083). s(1084,0).p(1090,1092,1093). s(1092,0). r(1093,1094,c). p(1090,1094,1093). s(1094,0).p(1100,1102,1103). s(1102,0). r(1103,1104,c). p(1100,1104,1103). s(1104,0).p(1110,1112,1113). s(1112,0). r(1113,1114,c). p(1110,1114,1113). s(1114,0).p(1120,1122,1123). s(1122,0). r(1123,1124,c). p(1120,1124,1123). s(1124,0).p(1130,1132,1133). s(1132,0). r(1133,1134,c). p(1130,1134,1133). s(1134,0).p(1140,1142,1143). s(1142,0). r(1143,1144,c). p(1140,1144,1143). s(1144,0).p(1150,1152,1153). s(1152,0). r(1153,1154,c). p(1150,1154,1153). s(1154,0).p(1160,1162,1163). s(1162,0). r(1163,1164,c). p(1160,1164,1163). s(1164,0).p(1170,1172,1173). s(1172,0). r(1173,1174,c). p(1170,1174,1173). s(1174,0).p(1180,1182,1183). s(1182,0). r(1183,1184,c). p(1180,1184,1183). s(1184,0).p(1190,1192,1193). s(1192,0). r(1193,1194,c). p(1190,1194,1193). s(1194,0).p(1200,1202,1203). s(1202,0). r(1203,1204,c). p(1200,1204,1203). s(1204,0).p(1210,1212,1213). s(1212,0). r(1213,1214,c). p(1210,1214,1213). s(1214,0).p(1220,1222,1223). s(1222,0). r(1223,1224,c). p(1220,1224,1223). s(1224,0).p(1230,1232,1233). s(1232,0). r(1233,1234,c). p(1230,1234,1233). s(1234,0).p(1240,1242,1243). s(1242,0). r(1243,1244,c). p(1240,1244,1243). s(1244,0).p(1250,1252,1253). s(1252,0). r(1253,1254,c). p(1250,1254,1253). s(1254,0).p(1260,1262,1263). s(1262,0). r(1263,1264,c). p(1260,1264,1263). s(1264,0).p(1270,1272,1273). s(1272,0). r(1273,1274,c). p(1270,1274,1273). s(1274,0).p(1280,1282,1283). s(1282,0). r(1283,1284,c). p(1280,1284,1283). s(1284,0).p(1290,1292,1293). s(1292,0). r(1293,1294,c). p(1290,1294,1293). s(1294,0).p(1300,1302,1303). s(1302,0). r(1303,1304,c). p(1300,1304,1303). s(1304,0).p(1310,1312,1313). s(1312,0). r(1313,1314,c). p(1310,1314,1313). s(1314,0).p(1320,1322,1323). s(1322,0). r(1323,1324,c). p(1320,1324,1323). s(1324,0).p(1330,1332,1333). s(1332,0). r(1333,1334,c). p(1330,1334,1333). s(1334,0).p(1340,1342,1343). s(1342,0). r(1343,1344,c). p(1340,1344,1343). s(1344,0).p(1350,1352,1353). s(1352,0). r(1353,1354,c). p(1350,1354,1353). s(1354,0).p(1360,1362,1363). s(1362,0). r(1363,1364,c). p(1360,1364,1363). s(1364,0).p(1370,1372,1373). s(1372,0). r(1373,1374,c). p(1370,1374,1373). s(1374,0).p(1380,1382,1383). s(1382,0). r(1383,1384,c). p(1380,1384,1383). s(1384,0).p(1390,1392,1393). s(1392,0). r(1393,1394,c). p(1390,1394,1393). s(1394,0).p(1400,1402,1403). s(1402,0). r(1403,1404,c). p(1400,1404,1403). s(1404,0).p(1410,1412,1413). s(1412,0). r(1413,1414,c). p(1410,1414,1413). s(1414,0).p(1420,1422,1423). s(1422,0). r(1423,1424,c). p(1420,1424,1423). s(1424,0).p(1430,1432,1433). s(1432,0). r(1433,1434,c). p(1430,1434,1433). s(1434,0).p(1440,1442,1443). s(1442,0). r(1443,1444,c). p(1440,1444,1443). s(1444,0).p(1450,1452,1453). s(1452,0). r(1453,1454,c). p(1450,1454,1453). s(1454,0).p(1460,1462,1463). s(1462,0). r(1463,1464,c). p(1460,1464,1463). s(1464,0).p(1470,1472,1473). s(1472,0). r(1473,1474,c). p(1470,1474,1473). s(1474,0).p(1480,1482,1483). s(1482,0). r(1483,1484,c). p(1480,1484,1483). s(1484,0).p(1490,1492,1493). s(1492,0). r(1493,1494,c). p(1490,1494,1493). s(1494,0).\n",
      "Unsatisfied detected\n",
      "p(1001,1003,1004). s(1003,0). r(1004,1005,c). p(1001,1005,1004). s(1005,0).p(1011,1013,1014). s(1013,0). r(1014,1015,c). p(1011,1015,1014). s(1015,0).p(1021,1023,1024). s(1023,0). r(1024,1025,c). p(1021,1025,1024). s(1025,0).p(1031,1033,1034). s(1033,0). r(1034,1035,c). p(1031,1035,1034). s(1035,0).p(1041,1043,1044). s(1043,0). r(1044,1045,c). p(1041,1045,1044). s(1045,0).p(1051,1053,1054). s(1053,0). r(1054,1055,c). p(1051,1055,1054). s(1055,0).p(1061,1063,1064). s(1063,0). r(1064,1065,c). p(1061,1065,1064). s(1065,0).p(1071,1073,1074). s(1073,0). r(1074,1075,c). p(1071,1075,1074). s(1075,0).p(1081,1083,1084). s(1083,0). r(1084,1085,c). p(1081,1085,1084). s(1085,0).p(1091,1093,1094). s(1093,0). r(1094,1095,c). p(1091,1095,1094). s(1095,0).p(1101,1103,1104). s(1103,0). r(1104,1105,c). p(1101,1105,1104). s(1105,0).p(1111,1113,1114). s(1113,0). r(1114,1115,c). p(1111,1115,1114). s(1115,0).p(1121,1123,1124). s(1123,0). r(1124,1125,c). p(1121,1125,1124). s(1125,0).p(1131,1133,1134). s(1133,0). r(1134,1135,c). p(1131,1135,1134). s(1135,0).p(1141,1143,1144). s(1143,0). r(1144,1145,c). p(1141,1145,1144). s(1145,0).p(1151,1153,1154). s(1153,0). r(1154,1155,c). p(1151,1155,1154). s(1155,0).p(1161,1163,1164). s(1163,0). r(1164,1165,c). p(1161,1165,1164). s(1165,0).p(1171,1173,1174). s(1173,0). r(1174,1175,c). p(1171,1175,1174). s(1175,0).p(1181,1183,1184). s(1183,0). r(1184,1185,c). p(1181,1185,1184). s(1185,0).p(1191,1193,1194). s(1193,0). r(1194,1195,c). p(1191,1195,1194). s(1195,0).p(1201,1203,1204). s(1203,0). r(1204,1205,c). p(1201,1205,1204). s(1205,0).p(1211,1213,1214). s(1213,0). r(1214,1215,c). p(1211,1215,1214). s(1215,0).p(1221,1223,1224). s(1223,0). r(1224,1225,c). p(1221,1225,1224). s(1225,0).p(1231,1233,1234). s(1233,0). r(1234,1235,c). p(1231,1235,1234). s(1235,0).p(1241,1243,1244). s(1243,0). r(1244,1245,c). p(1241,1245,1244). s(1245,0).p(1251,1253,1254). s(1253,0). r(1254,1255,c). p(1251,1255,1254). s(1255,0).p(1261,1263,1264). s(1263,0). r(1264,1265,c). p(1261,1265,1264). s(1265,0).p(1271,1273,1274). s(1273,0). r(1274,1275,c). p(1271,1275,1274). s(1275,0).p(1281,1283,1284). s(1283,0). r(1284,1285,c). p(1281,1285,1284). s(1285,0).p(1291,1293,1294). s(1293,0). r(1294,1295,c). p(1291,1295,1294). s(1295,0).p(1301,1303,1304). s(1303,0). r(1304,1305,c). p(1301,1305,1304). s(1305,0).p(1311,1313,1314). s(1313,0). r(1314,1315,c). p(1311,1315,1314). s(1315,0).p(1321,1323,1324). s(1323,0). r(1324,1325,c). p(1321,1325,1324). s(1325,0).p(1331,1333,1334). s(1333,0). r(1334,1335,c). p(1331,1335,1334). s(1335,0).p(1341,1343,1344). s(1343,0). r(1344,1345,c). p(1341,1345,1344). s(1345,0).p(1351,1353,1354). s(1353,0). r(1354,1355,c). p(1351,1355,1354). s(1355,0).p(1361,1363,1364). s(1363,0). r(1364,1365,c). p(1361,1365,1364). s(1365,0).p(1371,1373,1374). s(1373,0). r(1374,1375,c). p(1371,1375,1374). s(1375,0).p(1381,1383,1384). s(1383,0). r(1384,1385,c). p(1381,1385,1384). s(1385,0).p(1391,1393,1394). s(1393,0). r(1394,1395,c). p(1391,1395,1394). s(1395,0).p(1401,1403,1404). s(1403,0). r(1404,1405,c). p(1401,1405,1404). s(1405,0).p(1411,1413,1414). s(1413,0). r(1414,1415,c). p(1411,1415,1414). s(1415,0).p(1421,1423,1424). s(1423,0). r(1424,1425,c). p(1421,1425,1424). s(1425,0).p(1431,1433,1434). s(1433,0). r(1434,1435,c). p(1431,1435,1434). s(1435,0).p(1441,1443,1444). s(1443,0). r(1444,1445,c). p(1441,1445,1444). s(1445,0).p(1451,1453,1454). s(1453,0). r(1454,1455,c). p(1451,1455,1454). s(1455,0).p(1461,1463,1464). s(1463,0). r(1464,1465,c). p(1461,1465,1464). s(1465,0).p(1471,1473,1474). s(1473,0). r(1474,1475,c). p(1471,1475,1474). s(1475,0).p(1481,1483,1484). s(1483,0). r(1484,1485,c). p(1481,1485,1484). s(1485,0).p(1491,1493,1494). s(1493,0). r(1494,1495,c). p(1491,1495,1494). s(1495,0).p(1501,1503,1504). s(1503,0). r(1504,1505,c). p(1501,1505,1504). s(1505,0).p(1511,1513,1514). s(1513,0). r(1514,1515,c). p(1511,1515,1514). s(1515,0).p(1521,1523,1524). s(1523,0). r(1524,1525,c). p(1521,1525,1524). s(1525,0).p(1531,1533,1534). s(1533,0). r(1534,1535,c). p(1531,1535,1534). s(1535,0).p(1541,1543,1544). s(1543,0). r(1544,1545,c). p(1541,1545,1544). s(1545,0).p(1551,1553,1554). s(1553,0). r(1554,1555,c). p(1551,1555,1554). s(1555,0).p(1561,1563,1564). s(1563,0). r(1564,1565,c). p(1561,1565,1564). s(1565,0).p(1571,1573,1574). s(1573,0). r(1574,1575,c). p(1571,1575,1574). s(1575,0).p(1581,1583,1584). s(1583,0). r(1584,1585,c). p(1581,1585,1584). s(1585,0).p(1591,1593,1594). s(1593,0). r(1594,1595,c). p(1591,1595,1594). s(1595,0).p(1601,1603,1604). s(1603,0). r(1604,1605,c). p(1601,1605,1604). s(1605,0).p(1611,1613,1614). s(1613,0). r(1614,1615,c). p(1611,1615,1614). s(1615,0).p(1621,1623,1624). s(1623,0). r(1624,1625,c). p(1621,1625,1624). s(1625,0).p(1631,1633,1634). s(1633,0). r(1634,1635,c). p(1631,1635,1634). s(1635,0).p(1641,1643,1644). s(1643,0). r(1644,1645,c). p(1641,1645,1644). s(1645,0).p(1651,1653,1654). s(1653,0). r(1654,1655,c). p(1651,1655,1654). s(1655,0).p(1661,1663,1664). s(1663,0). r(1664,1665,c). p(1661,1665,1664). s(1665,0).p(1671,1673,1674). s(1673,0). r(1674,1675,c). p(1671,1675,1674). s(1675,0).p(1681,1683,1684). s(1683,0). r(1684,1685,c). p(1681,1685,1684). s(1685,0).p(1691,1693,1694). s(1693,0). r(1694,1695,c). p(1691,1695,1694). s(1695,0).p(1701,1703,1704). s(1703,0). r(1704,1705,c). p(1701,1705,1704). s(1705,0).p(1711,1713,1714). s(1713,0). r(1714,1715,c). p(1711,1715,1714). s(1715,0).p(1721,1723,1724). s(1723,0). r(1724,1725,c). p(1721,1725,1724). s(1725,0).p(1731,1733,1734). s(1733,0). r(1734,1735,c). p(1731,1735,1734). s(1735,0).p(1741,1743,1744). s(1743,0). r(1744,1745,c). p(1741,1745,1744). s(1745,0).p(1751,1753,1754). s(1753,0). r(1754,1755,c). p(1751,1755,1754). s(1755,0).p(1761,1763,1764). s(1763,0). r(1764,1765,c). p(1761,1765,1764). s(1765,0).p(1771,1773,1774). s(1773,0). r(1774,1775,c). p(1771,1775,1774). s(1775,0).p(1781,1783,1784). s(1783,0). r(1784,1785,c). p(1781,1785,1784). s(1785,0).p(1791,1793,1794). s(1793,0). r(1794,1795,c). p(1791,1795,1794). s(1795,0).p(1801,1803,1804). s(1803,0). r(1804,1805,c). p(1801,1805,1804). s(1805,0).p(1811,1813,1814). s(1813,0). r(1814,1815,c). p(1811,1815,1814). s(1815,0).p(1821,1823,1824). s(1823,0). r(1824,1825,c). p(1821,1825,1824). s(1825,0).p(1831,1833,1834). s(1833,0). r(1834,1835,c). p(1831,1835,1834). s(1835,0).p(1841,1843,1844). s(1843,0). r(1844,1845,c). p(1841,1845,1844). s(1845,0).p(1851,1853,1854). s(1853,0). r(1854,1855,c). p(1851,1855,1854). s(1855,0).p(1861,1863,1864). s(1863,0). r(1864,1865,c). p(1861,1865,1864). s(1865,0).p(1871,1873,1874). s(1873,0). r(1874,1875,c). p(1871,1875,1874). s(1875,0).p(1881,1883,1884). s(1883,0). r(1884,1885,c). p(1881,1885,1884). s(1885,0).p(1891,1893,1894). s(1893,0). r(1894,1895,c). p(1891,1895,1894). s(1895,0).p(1901,1903,1904). s(1903,0). r(1904,1905,c). p(1901,1905,1904). s(1905,0).p(1911,1913,1914). s(1913,0). r(1914,1915,c). p(1911,1915,1914). s(1915,0).p(1921,1923,1924). s(1923,0). r(1924,1925,c). p(1921,1925,1924). s(1925,0).p(1931,1933,1934). s(1933,0). r(1934,1935,c). p(1931,1935,1934). s(1935,0).p(1941,1943,1944). s(1943,0). r(1944,1945,c). p(1941,1945,1944). s(1945,0).p(1951,1953,1954). s(1953,0). r(1954,1955,c). p(1951,1955,1954). s(1955,0).p(1961,1963,1964). s(1963,0). r(1964,1965,c). p(1961,1965,1964). s(1965,0).p(1971,1973,1974). s(1973,0). r(1974,1975,c). p(1971,1975,1974). s(1975,0).p(1981,1983,1984). s(1983,0). r(1984,1985,c). p(1981,1985,1984). s(1985,0).p(1991,1993,1994). s(1993,0). r(1994,1995,c). p(1991,1995,1994). s(1995,0).\n",
      "Unsatisfied detected\n"
     ]
    }
   ],
   "source": [
    "f = open(\"q0.db\", \"w\")\n",
    "\n",
    "i=0\n",
    "q0_datalog=[]\n",
    "q0_gac=[]\n",
    "while(i<2):\n",
    "    line=generate_database(i,0,True,size_db[i])\n",
    "    f.write(line)\n",
    "    \n",
    "    j=0\n",
    "    list_d=[]\n",
    "    list_gac=[]\n",
    "    while(j<5):\n",
    "        result = subprocess.run(['clingo','q0.db',\"certainty_q0.lp\"], stdout=subprocess.PIPE, universal_newlines=True)\n",
    "        tmp = result.stdout.split(\"CPU Time     : \")\n",
    "        list_d.append(tmp[1].split(\"s\")[0])\n",
    "        if(\"unsatisfied\" in tmp[0]):\n",
    "            print(\"Unsatisfied detected\")\n",
    "            break\n",
    "\n",
    "        result = subprocess.run(['clingo','q0.db',\"coCertainty_q0.lp\"], stdout=subprocess.PIPE, universal_newlines=True)\n",
    "        tmp = result.stdout.split(\"CPU Time     : \")\n",
    "        list_gac.append(tmp[1].split(\"s\")[0])\n",
    "        if(not \"UNSATISFIABLE\" in tmp[0]):\n",
    "            print(\"satisfied detected\")\n",
    "            break\n",
    "        j=j+1\n",
    "    q0_datalog.append(list_d)\n",
    "    q0_gac.append(list_gac)\n",
    "        \n",
    "        \n",
    "    i=i+1\n",
    "\n",
    "\n",
    "f.close()"
   ]
  },
  {
   "cell_type": "code",
   "execution_count": null,
   "id": "c3b4b62c",
   "metadata": {},
   "outputs": [],
   "source": [
    "f = open(\"q0_inconsistent.db\", \"w\")\n",
    "\n",
    "i=0\n",
    "q0c_datalog=[]\n",
    "q0c_gac=[]\n",
    "while(i<2):\n",
    "    line=generate_database(i,0,False,size_db[i])\n",
    "    f.write(line)\n",
    "    \n",
    "    j=0\n",
    "    list_d=[]\n",
    "    list_gac=[]\n",
    "    while(j<5):\n",
    "        result = subprocess.run(['clingo','q0_inconsistent.db',\"certainty_q0.lp\"], stdout=subprocess.PIPE, universal_newlines=True)\n",
    "        tmp = result.stdout.split(\"CPU Time     : \")\n",
    "        list_d.append(tmp[1].split(\"s\")[0])\n",
    "        if(not \"unsatisfied\" in tmp[0]):\n",
    "            print(\"Satisfied detected\")\n",
    "            break\n",
    "\n",
    "        result = subprocess.run(['clingo','q0_inconsistent.db',\"coCertainty_q0.lp\"], stdout=subprocess.PIPE, universal_newlines=True)\n",
    "        tmp = result.stdout.split(\"CPU Time     : \")\n",
    "        list_gac.append(tmp[1].split(\"s\")[0])\n",
    "\n",
    "        if(\"UNSATISFIABLE\" in tmp[0]):\n",
    "            print(\"Unsatisfied detected\")\n",
    "            break\n",
    "        j=j+1\n",
    "    q0c_datalog.append(list_d)\n",
    "    q0c_gac.append(list_gac)\n",
    "    \n",
    "    i=i+1\n",
    "\n",
    "\n",
    "f.close()"
   ]
  },
  {
   "cell_type": "code",
   "execution_count": null,
   "id": "a551e21c",
   "metadata": {},
   "outputs": [],
   "source": [
    "f = open(\"q1.db\", \"w\")\n",
    "\n",
    "i=0\n",
    "q1_datalog=[]\n",
    "q1_gac=[]\n",
    "while(i<2):\n",
    "    line=generate_database(i,1,True,size_db[i])\n",
    "    f.write(line)\n",
    "    \n",
    "    \n",
    "    j=0\n",
    "    list_d=[]\n",
    "    list_gac=[]\n",
    "    while(j<5):\n",
    "        result = subprocess.run(['clingo','q1.db',\"certainty_q1.lp\"], stdout=subprocess.PIPE, universal_newlines=True)\n",
    "        tmp = result.stdout.split(\"CPU Time     : \")\n",
    "        list_d.append(tmp[1].split(\"s\")[0])\n",
    "        if(\"unsatisfied\" in tmp[0]):\n",
    "            print(\"Unsatisfied detected\")\n",
    "            break\n",
    "\n",
    "        result = subprocess.run(['clingo','q1.db',\"coCertainty_q1.lp\"], stdout=subprocess.PIPE, universal_newlines=True)\n",
    "        tmp = result.stdout.split(\"CPU Time     : \")\n",
    "        list_gac.append(tmp[1].split(\"s\")[0])\n",
    "        if(not \"UNSATISFIABLE\" in tmp[0]):\n",
    "            print(\"Satisfied detected\")\n",
    "            break\n",
    "        j=j+1\n",
    "        \n",
    "    q1_datalog.append(list_d)\n",
    "    q1_gac.append(list_gac)\n",
    "        \n",
    "    i=i+1\n",
    "\n",
    "\n",
    "f.close()"
   ]
  },
  {
   "cell_type": "code",
   "execution_count": null,
   "id": "bb351d78",
   "metadata": {},
   "outputs": [],
   "source": [
    "f = open(\"q1_inconsistent.db\", \"w\")\n",
    "\n",
    "i=0\n",
    "q1c_datalog=[]\n",
    "q1c_gac=[]\n",
    "while(i<2):\n",
    "    line=generate_database(i,1,False,size_db[i])\n",
    "    f.write(line)\n",
    "    \n",
    "    \n",
    "    j=0\n",
    "    list_d=[]\n",
    "    list_gac=[]\n",
    "    while(j<5):\n",
    "        result = subprocess.run(['clingo','q1_inconsistent.db',\"certainty_q1.lp\"], stdout=subprocess.PIPE, universal_newlines=True)\n",
    "        tmp = result.stdout.split(\"CPU Time     : \")\n",
    "        list_d.append(tmp[1].split(\"s\")[0])\n",
    "        if(not \"unsatisfied\" in tmp[0]):\n",
    "            print(\"satisfied detected\")\n",
    "            break\n",
    "\n",
    "        result = subprocess.run(['clingo','q1_inconsistent.db',\"coCertainty_q1.lp\"], stdout=subprocess.PIPE, universal_newlines=True)\n",
    "        tmp = result.stdout.split(\"CPU Time     : \")\n",
    "        list_gac.append(tmp[1].split(\"s\")[0])\n",
    "\n",
    "        if(\"UNSATISFIABLE\" in tmp[0]):\n",
    "            print(\"Unsatisfied detected\")\n",
    "            break\n",
    "        j=j+1\n",
    "        \n",
    "    q1c_datalog.append(list_d)\n",
    "    q1c_gac.append(list_gac)\n",
    "    \n",
    "    i=i+1\n",
    "\n",
    "\n",
    "f.close()"
   ]
  },
  {
   "cell_type": "code",
   "execution_count": null,
   "id": "908e863a",
   "metadata": {},
   "outputs": [],
   "source": [
    "print(q0_datalog)\n",
    "print(q0_gac)"
   ]
  },
  {
   "cell_type": "code",
   "execution_count": null,
   "id": "9867f106",
   "metadata": {},
   "outputs": [],
   "source": [
    "print(q0c_datalog)\n",
    "print(q0c_gac)"
   ]
  },
  {
   "cell_type": "code",
   "execution_count": null,
   "id": "636d3aeb",
   "metadata": {},
   "outputs": [],
   "source": [
    "print(q1_datalog)\n",
    "print(q1_gac)"
   ]
  },
  {
   "cell_type": "code",
   "execution_count": null,
   "id": "2031c51a",
   "metadata": {},
   "outputs": [],
   "source": [
    "print(q1c_datalog)\n",
    "print(q1c_gac)"
   ]
  },
  {
   "cell_type": "code",
   "execution_count": null,
   "id": "79ee146a",
   "metadata": {},
   "outputs": [],
   "source": [
    "import matplotlib.pyplot as plt\n",
    "import numpy as np"
   ]
  },
  {
   "cell_type": "code",
   "execution_count": null,
   "id": "5b2b5a7a",
   "metadata": {},
   "outputs": [],
   "source": [
    "mean_q0_datalog=[]\n",
    "mean_q0_gac=[]\n",
    "\n",
    "mean_q0c_datalog=[]\n",
    "mean_q0c_gac=[]\n",
    "\n",
    "mean_q1_datalog=[]\n",
    "mean_q1_gac=[]\n",
    "\n",
    "mean_q1c_datalog=[]\n",
    "mean_q1c_gac=[]\n",
    "\n",
    "for i in range(len(q0_datalog)):\n",
    "    mean_q0_datalog.append(sum(map(float, q0_datalog[i]))/len(q0_datalog[i])*1000)\n",
    "    mean_q0_gac.append(sum(map(float,q0_gac[i]))/len(q0_gac[i])*1000)\n",
    "    \n",
    "    mean_q0c_datalog.append(sum(map(float, q0c_datalog[i]))/len(q0_datalog[i])*1000)\n",
    "    mean_q0c_gac.append(sum(map(float,q0c_gac[i]))/len(q0_gac[i])*1000)\n",
    "    \n",
    "    mean_q1_datalog.append(sum(map(float, q1_datalog[i]))/len(q1_datalog[i])*1000)\n",
    "    mean_q1_gac.append(sum(map(float,q1_gac[i]))/len(q1_gac[i])*1000)\n",
    "    \n",
    "    mean_q1c_datalog.append(sum(map(float, q1c_datalog[i]))/len(q1_datalog[i])*1000)\n",
    "    mean_q1c_gac.append(sum(map(float,q1c_gac[i]))/len(q1_gac[i])*1000)\n",
    "    \n",
    "    \n",
    "print(mean_q0_datalog)\n",
    "print(mean_q0_gac)\n",
    "\n",
    "print(mean_q0c_datalog)\n",
    "print(mean_q0c_gac)\n",
    "\n",
    "    \n",
    "print(mean_q1_datalog)\n",
    "print(mean_q1_gac)\n",
    "\n",
    "print(mean_q1c_datalog)\n",
    "print(mean_q1c_gac)"
   ]
  },
  {
   "cell_type": "code",
   "execution_count": null,
   "id": "bc11a80b",
   "metadata": {},
   "outputs": [],
   "source": [
    "x = list(range(len(size_db)))"
   ]
  },
  {
   "cell_type": "code",
   "execution_count": null,
   "id": "ae06b08e",
   "metadata": {},
   "outputs": [],
   "source": [
    "plt.figure(figsize=(10,6))\n",
    "plt.plot(x, mean_q0_datalog, marker='o', linestyle='--', color='r', label='Datalog') \n",
    "plt.plot(x, mean_q0_gac, marker='o', linestyle='--', color='b', label='Guess-and-check') \n",
    "plt.xlabel('Database size')\n",
    "plt.ylabel('Execution time (in milliseconds)') \n",
    "plt.xticks(x, size_db)\n",
    "plt.title('\"Yes\"-instance for q0')\n",
    "plt.legend() \n",
    "plt.show()"
   ]
  },
  {
   "cell_type": "code",
   "execution_count": null,
   "id": "a0ad3cc1",
   "metadata": {},
   "outputs": [],
   "source": [
    "plt.figure(figsize=(10,6))\n",
    "plt.plot(x, mean_q0c_datalog, marker='o', linestyle='--', color='r', label='Datalog') \n",
    "plt.plot(x, mean_q0c_gac, marker='o', linestyle='--', color='b', label='Guess-and-check') \n",
    "plt.xlabel('Database size')\n",
    "plt.ylabel('Execution time (in milliseconds)') \n",
    "plt.xticks(x, size_db)\n",
    "plt.title('\"No\"-instance for q0')\n",
    "plt.legend() \n",
    "plt.show()"
   ]
  },
  {
   "cell_type": "code",
   "execution_count": null,
   "id": "b3566de0",
   "metadata": {},
   "outputs": [],
   "source": [
    "plt.figure(figsize=(10,6))\n",
    "plt.plot(x, mean_q1_datalog, marker='o', linestyle='--', color='r', label='Datalog') \n",
    "plt.plot(x, mean_q1_gac, marker='o', linestyle='--', color='b', label='Guess-and-check') \n",
    "plt.xlabel('Database size')\n",
    "plt.ylabel('Execution time (in milliseconds)') \n",
    "plt.xticks(x, size_db)\n",
    "plt.title('\"Yes\"-instance for q1')\n",
    "plt.legend() \n",
    "plt.show()"
   ]
  },
  {
   "cell_type": "code",
   "execution_count": null,
   "id": "3e57cc01",
   "metadata": {},
   "outputs": [],
   "source": [
    "plt.figure(figsize=(10,6))\n",
    "plt.plot(x, mean_q1c_datalog, marker='o', linestyle='--', color='r', label='Datalog') \n",
    "plt.plot(x, mean_q1c_gac, marker='o', linestyle='--', color='b', label='Guess-and-check') \n",
    "plt.xlabel('Database size')\n",
    "plt.ylabel('Execution time (in milliseconds)') \n",
    "plt.xticks(x, size_db)\n",
    "plt.title('\"No\"-instance for q1')\n",
    "plt.legend() \n",
    "plt.show()"
   ]
  },
  {
   "cell_type": "code",
   "execution_count": null,
   "id": "93b473f0",
   "metadata": {},
   "outputs": [],
   "source": [
    "!clingo q0.db coCertainty_q0.lp"
   ]
  },
  {
   "cell_type": "code",
   "execution_count": null,
   "id": "b93e75e4",
   "metadata": {},
   "outputs": [],
   "source": []
  }
 ],
 "metadata": {
  "kernelspec": {
   "display_name": "Python 3 (ipykernel)",
   "language": "python",
   "name": "python3"
  },
  "language_info": {
   "codemirror_mode": {
    "name": "ipython",
    "version": 3
   },
   "file_extension": ".py",
   "mimetype": "text/x-python",
   "name": "python",
   "nbconvert_exporter": "python",
   "pygments_lexer": "ipython3",
   "version": "3.9.7"
  }
 },
 "nbformat": 4,
 "nbformat_minor": 5
}
