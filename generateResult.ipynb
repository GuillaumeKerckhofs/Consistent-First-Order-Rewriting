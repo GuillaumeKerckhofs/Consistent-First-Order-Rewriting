{
 "cells": [
  {
   "cell_type": "code",
   "execution_count": 2,
   "id": "3b172adc",
   "metadata": {},
   "outputs": [
    {
     "name": "stdout",
     "output_type": "stream",
     "text": [
      "Requirement already satisfied: clingo in c:\\users\\1guig\\anaconda3\\lib\\site-packages (5.6.2)\n",
      "Note: you may need to restart the kernel to use updated packages.\n"
     ]
    }
   ],
   "source": [
    "pip install clingo"
   ]
  },
  {
   "cell_type": "code",
   "execution_count": 5,
   "id": "a038c5b0",
   "metadata": {},
   "outputs": [
    {
     "ename": "SyntaxError",
     "evalue": "invalid syntax (Temp/ipykernel_24596/350321259.py, line 1)",
     "output_type": "error",
     "traceback": [
      "\u001b[1;36m  File \u001b[1;32m\"C:\\Users\\1guig\\AppData\\Local\\Temp/ipykernel_24596/350321259.py\"\u001b[1;36m, line \u001b[1;32m1\u001b[0m\n\u001b[1;33m    clingo ./query1.db ./loop.lp\u001b[0m\n\u001b[1;37m            ^\u001b[0m\n\u001b[1;31mSyntaxError\u001b[0m\u001b[1;31m:\u001b[0m invalid syntax\n"
     ]
    }
   ],
   "source": [
    "clingo ./query1.db ./loop.lp"
   ]
  },
  {
   "cell_type": "code",
   "execution_count": null,
   "id": "1bfa05e7",
   "metadata": {},
   "outputs": [],
   "source": []
  }
 ],
 "metadata": {
  "kernelspec": {
   "display_name": "Python 3 (ipykernel)",
   "language": "python",
   "name": "python3"
  },
  "language_info": {
   "codemirror_mode": {
    "name": "ipython",
    "version": 3
   },
   "file_extension": ".py",
   "mimetype": "text/x-python",
   "name": "python",
   "nbconvert_exporter": "python",
   "pygments_lexer": "ipython3",
   "version": "3.9.7"
  }
 },
 "nbformat": 4,
 "nbformat_minor": 5
}
