{
 "cells": [
  {
   "cell_type": "code",
   "execution_count": 54,
   "id": "990c138a",
   "metadata": {},
   "outputs": [],
   "source": [
    "import subprocess\n",
    "import random"
   ]
  },
  {
   "cell_type": "code",
   "execution_count": 79,
   "id": "7572f293",
   "metadata": {},
   "outputs": [],
   "source": [
    "def generate_database(i,q,c):\n",
    "    j=i+1000\n",
    "    nbr=0\n",
    "    db=\"\"\n",
    "    while(nbr<10000):\n",
    "        if(q==0):\n",
    "            db=db+f'p({j},{(j+((j+1)%2))},{(j+(j%2))*2}). s({j+((j+1)%2)},0). r({(j+(j%2))*2},{j+3},c). '\n",
    "        else:\n",
    "            db=db+f'p({j},{j},{j},{j}).'\n",
    "        j=j+1\n",
    "        nbr=nbr+1\n",
    "    if(not c):\n",
    "        tmp=random.randint(1,3)\n",
    "        if(q==0):\n",
    "            if(tmp==1):\n",
    "                db=db+f'p({j},{(j*1000)},{(j+(j%2))*2}).'\n",
    "            elif(tmp==2):\n",
    "                db=db+f'p({j},{(j+((j+1)%2))},{(j*1000)}).'\n",
    "            elif(tmp==3):\n",
    "                db=db+f'r({(j+(j%2))*2},{j+3},d). '\n",
    "        else:\n",
    "            if(tmp==1):\n",
    "                db=db+f'p({j+20000},{j},{j+20000},{j+10000}). p({j},{j},{j},{j}).'\n",
    "            elif(tmp==2):\n",
    "                db=db+f'p({j},{j+20000},{j+20000},{j+10000}). p({j},{j},{j},{j}).'\n",
    "            elif(tmp==3):\n",
    "                db=db+f'p({j+20000},{j+20000},{j},{j+10000}). p({j},{j},{j},{j}).'\n",
    "            \n",
    "    return db"
   ]
  },
  {
   "cell_type": "code",
   "execution_count": 56,
   "id": "0442fa59",
   "metadata": {},
   "outputs": [],
   "source": [
    "f = open(\"q0.db\", \"w\")\n",
    "\n",
    "i=0\n",
    "result_datalog=[]\n",
    "result_gac=[]\n",
    "while(i<10):\n",
    "    line=generate_database(i,0,True)\n",
    "    f.write(line)\n",
    "    \n",
    "    result = subprocess.run(['clingo','q0.db',\"datalog_query0.lp\"], stdout=subprocess.PIPE, universal_newlines=True)\n",
    "    tmp = result.stdout.split(\"CPU Time     : \")\n",
    "    result_datalog.append(tmp[1].split(\"s\")[0])\n",
    "    if(\"unsatisfied\" in tmp[0]):\n",
    "        print(\"Unsatisfied detected\")\n",
    "        break\n",
    "\n",
    "    result = subprocess.run(['clingo','q0.db',\"gac_query0.lp\"], stdout=subprocess.PIPE, universal_newlines=True)\n",
    "    tmp = result.stdout.split(\"CPU Time     : \")\n",
    "    result_gac.append(tmp[1].split(\"s\")[0])\n",
    "    if(\"UNSATISFIABLE\" in tmp[0]):\n",
    "        print(\"Unsatisfied detected\")\n",
    "        break\n",
    "        \n",
    "        \n",
    "    i=i+1\n",
    "\n",
    "\n",
    "f.close()"
   ]
  },
  {
   "cell_type": "code",
   "execution_count": 57,
   "id": "908e863a",
   "metadata": {},
   "outputs": [
    {
     "name": "stdout",
     "output_type": "stream",
     "text": [
      "['0.156', '0.172', '0.406', '0.531', '0.656', '0.453', '0.547', '1.016', '1.172', '1.297']\n",
      "['0.344', '0.438', '0.500', '0.875', '0.625', '0.719', '0.797', '0.859', '0.953', '1.000']\n"
     ]
    }
   ],
   "source": [
    "print(result_datalog)\n",
    "print(result_gac)"
   ]
  },
  {
   "cell_type": "code",
   "execution_count": 58,
   "id": "c3b4b62c",
   "metadata": {},
   "outputs": [],
   "source": [
    "f = open(\"q0_inconsistent.db\", \"w\")\n",
    "\n",
    "i=0\n",
    "result_datalog=[]\n",
    "result_gac=[]\n",
    "while(i<10):\n",
    "    line=generate_database(i,0,False)\n",
    "    f.write(line)\n",
    "    \n",
    "    result = subprocess.run(['clingo','q0_inconsistent.db',\"datalog_query0.lp\"], stdout=subprocess.PIPE, universal_newlines=True)\n",
    "    tmp = result.stdout.split(\"CPU Time     : \")\n",
    "    result_datalog.append(tmp[1].split(\"s\")[0])\n",
    "    if(not \"unsatisfied\" in tmp[0]):\n",
    "        print(\"Unsatisfied detected\")\n",
    "        break\n",
    "\n",
    "    result = subprocess.run(['clingo','q0_inconsistent.db',\"gac_query0.lp\"], stdout=subprocess.PIPE, universal_newlines=True)\n",
    "    tmp = result.stdout.split(\"CPU Time     : \")\n",
    "    result_gac.append(tmp[1].split(\"s\")[0])\n",
    "    \n",
    "    if(not \"UNSATISFIABLE\" in tmp[0]):\n",
    "        print(\"Unsatisfied detected\")\n",
    "        break\n",
    "    \n",
    "    i=i+1\n",
    "\n",
    "\n",
    "f.close()"
   ]
  },
  {
   "cell_type": "code",
   "execution_count": 59,
   "id": "9867f106",
   "metadata": {},
   "outputs": [
    {
     "name": "stdout",
     "output_type": "stream",
     "text": [
      "['0.188', '0.172', '0.484', '0.641', '0.766', '0.766', '1.047', '1.219', '1.359', '1.547']\n",
      "['0.297', '0.547', '0.438', '0.547', '0.594', '0.656', '1.266', '0.797', '0.891', '1.688']\n"
     ]
    }
   ],
   "source": [
    "print(result_datalog)\n",
    "print(result_gac)"
   ]
  },
  {
   "cell_type": "code",
   "execution_count": 82,
   "id": "a551e21c",
   "metadata": {},
   "outputs": [],
   "source": [
    "f = open(\"q1.db\", \"w\")\n",
    "\n",
    "i=0\n",
    "result_datalog=[]\n",
    "result_gac=[]\n",
    "while(i<10):\n",
    "    line=generate_database(i,1,True)\n",
    "    f.write(line)\n",
    "    \n",
    "    result = subprocess.run(['clingo','q1.db',\"datalog_query1.lp\"], stdout=subprocess.PIPE, universal_newlines=True)\n",
    "    tmp = result.stdout.split(\"CPU Time     : \")\n",
    "    result_datalog.append(tmp[1].split(\"s\")[0])\n",
    "    if(\"unsatisfied\" in tmp[0]):\n",
    "        print(\"Unsatisfied detected\")\n",
    "        break\n",
    "\n",
    "    result = subprocess.run(['clingo','q1.db',\"gac_query1.lp\"], stdout=subprocess.PIPE, universal_newlines=True)\n",
    "    tmp = result.stdout.split(\"CPU Time     : \")\n",
    "    result_gac.append(tmp[1].split(\"s\")[0])\n",
    "    if(\"UNSATISFIABLE\" in tmp[0]):\n",
    "        print(\"Unsatisfied detected\")\n",
    "        break\n",
    "        \n",
    "        \n",
    "    i=i+1\n",
    "\n",
    "\n",
    "f.close()"
   ]
  },
  {
   "cell_type": "code",
   "execution_count": 83,
   "id": "a115a913",
   "metadata": {},
   "outputs": [
    {
     "name": "stdout",
     "output_type": "stream",
     "text": [
      "['0.063', '0.125', '0.188', '0.234', '0.281', '0.344', '0.391', '0.453', '0.516', '0.563']\n",
      "['0.063', '0.094', '0.125', '0.156', '0.188', '0.219', '0.234', '0.266', '0.297', '0.328']\n"
     ]
    }
   ],
   "source": [
    "print(result_datalog)\n",
    "print(result_gac)"
   ]
  },
  {
   "cell_type": "code",
   "execution_count": 85,
   "id": "0a313288",
   "metadata": {},
   "outputs": [],
   "source": [
    "f = open(\"q1_inconsistent.db\", \"w\")\n",
    "\n",
    "i=0\n",
    "result_datalog=[]\n",
    "result_gac=[]\n",
    "while(i<10):\n",
    "    line=generate_database(i,1,False)\n",
    "    f.write(line)\n",
    "    \n",
    "    result = subprocess.run(['clingo','q1_inconsistent.db',\"datalog_query1.lp\"], stdout=subprocess.PIPE, universal_newlines=True)\n",
    "    tmp = result.stdout.split(\"CPU Time     : \")\n",
    "    result_datalog.append(tmp[1].split(\"s\")[0])\n",
    "    if(not \"unsatisfied\" in tmp[0]):\n",
    "        print(\"satisfied detected\")\n",
    "        break\n",
    "\n",
    "    result = subprocess.run(['clingo','q1_inconsistent.db',\"gac_query1.lp\"], stdout=subprocess.PIPE, universal_newlines=True)\n",
    "    tmp = result.stdout.split(\"CPU Time     : \")\n",
    "    result_gac.append(tmp[1].split(\"s\")[0])\n",
    "    \n",
    "    if(not \"UNSATISFIABLE\" in tmp[0]):\n",
    "        print(\"satisfied detected\")\n",
    "        break\n",
    "    \n",
    "    i=i+1\n",
    "\n",
    "\n",
    "f.close()"
   ]
  },
  {
   "cell_type": "code",
   "execution_count": 86,
   "id": "de215ca6",
   "metadata": {},
   "outputs": [
    {
     "name": "stdout",
     "output_type": "stream",
     "text": [
      "['0.078', '0.125', '0.172', '0.234', '0.281', '0.344', '0.406', '0.250', '0.500', '0.563']\n",
      "['0.063', '0.094', '0.109', '0.156', '0.172', '0.203', '0.219', '0.250', '0.297', '0.313']\n"
     ]
    }
   ],
   "source": [
    "print(result_datalog)\n",
    "print(result_gac)"
   ]
  },
  {
   "cell_type": "code",
   "execution_count": null,
   "id": "cb318753",
   "metadata": {},
   "outputs": [],
   "source": []
  }
 ],
 "metadata": {
  "kernelspec": {
   "display_name": "Python 3 (ipykernel)",
   "language": "python",
   "name": "python3"
  },
  "language_info": {
   "codemirror_mode": {
    "name": "ipython",
    "version": 3
   },
   "file_extension": ".py",
   "mimetype": "text/x-python",
   "name": "python",
   "nbconvert_exporter": "python",
   "pygments_lexer": "ipython3",
   "version": "3.9.7"
  }
 },
 "nbformat": 4,
 "nbformat_minor": 5
}
