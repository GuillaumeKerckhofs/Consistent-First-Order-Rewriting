{
 "cells": [
  {
   "cell_type": "code",
   "execution_count": 1,
   "id": "990c138a",
   "metadata": {},
   "outputs": [],
   "source": [
    "import subprocess"
   ]
  },
  {
   "cell_type": "code",
   "execution_count": 15,
   "id": "511f6c23",
   "metadata": {},
   "outputs": [
    {
     "name": "stdout",
     "output_type": "stream",
     "text": [
      "clingo version 5.6.2\n",
      "Reading from q0.db ...\n",
      "Solving...\n",
      "Answer: 1\n",
      "satisfied\n",
      "SATISFIABLE\n",
      "\n",
      "Models       : 1\n",
      "Calls        : 1\n",
      "Time         : 0.127s (Solving: 0.00s 1st Model: 0.00s Unsat: 0.00s)\n",
      "CPU Time     : 0.141s\n"
     ]
    }
   ],
   "source": [
    "!clingo q0.db datalog_query0.lp"
   ]
  },
  {
   "cell_type": "code",
   "execution_count": 7,
   "id": "f2bb7f23",
   "metadata": {},
   "outputs": [
    {
     "name": "stderr",
     "output_type": "stream",
     "text": [
      "IOPub data rate exceeded.\n",
      "The notebook server will temporarily stop sending output\n",
      "to the client in order to avoid crashing it.\n",
      "To change this limit, set the config variable\n",
      "`--NotebookApp.iopub_data_rate_limit`.\n",
      "\n",
      "Current values:\n",
      "NotebookApp.iopub_data_rate_limit=1000000.0 (bytes/sec)\n",
      "NotebookApp.rate_limit_window=3.0 (secs)\n",
      "\n"
     ]
    }
   ],
   "source": [
    "!clingo q0.db gac_query0.lp"
   ]
  },
  {
   "cell_type": "code",
   "execution_count": 53,
   "id": "23bc186c",
   "metadata": {},
   "outputs": [
    {
     "name": "stdout",
     "output_type": "stream",
     "text": [
      "clingo version 5.6.2\n",
      "Reading from query1.db ...\n",
      "Solving...\n",
      "Answer: 1\n",
      "satisfied\n",
      "SATISFIABLE\n",
      "\n",
      "Models       : 1\n",
      "Calls        : 1\n",
      "Time         : 0.007s (Solving: 0.00s 1st Model: 0.00s Unsat: 0.00s)\n",
      "CPU Time     : 0.000s\n"
     ]
    }
   ],
   "source": [
    "!clingo query1.db datalog_query1.lp"
   ]
  },
  {
   "cell_type": "code",
   "execution_count": 54,
   "id": "a555ef93",
   "metadata": {},
   "outputs": [
    {
     "name": "stdout",
     "output_type": "stream",
     "text": [
      "clingo version 5.6.2\n",
      "Reading from query1.db ...\n",
      "Solving...\n",
      "Answer: 1\n",
      "p(1,1,1,1) p(2,2,3,2) vrow(100,r,x,x) vrow(100,r,y,y) vrow(100,r,z,z) vrow(100,r,w,w) kd(1,r,x) kd(2,r,y) kd(3,r,z)\n",
      "SATISFIABLE\n",
      "\n",
      "Models       : 1\n",
      "Calls        : 1\n",
      "Time         : 0.001s (Solving: 0.00s 1st Model: 0.00s Unsat: 0.00s)\n",
      "CPU Time     : 0.000s\n"
     ]
    }
   ],
   "source": [
    "!clingo query1.db gac_query1.lp"
   ]
  },
  {
   "cell_type": "code",
   "execution_count": 16,
   "id": "3117c747",
   "metadata": {},
   "outputs": [],
   "source": [
    "def generate_database(i,q,c):\n",
    "    j=i+1000\n",
    "    nbr=0\n",
    "    db=\"\"\n",
    "    while(nbr<10000):\n",
    "        if(c):\n",
    "            if(q==0):\n",
    "                db=db+f'p({j},{(j+((j+1)%2))},{(j+(j%2))*2}). s({j+((j+1)%2)},0). r({(j+(j%2))*2},{j+3},c). '\n",
    "            else:\n",
    "                db=db+f'p({j},{(j+((j+1)%2))},{(j+(j%2))*2},{(j+(j%2))*2}).'\n",
    "        else:\n",
    "            break\n",
    "        j=j+1\n",
    "        nbr=nbr+1\n",
    "    return db"
   ]
  },
  {
   "cell_type": "code",
   "execution_count": null,
   "id": "0442fa59",
   "metadata": {},
   "outputs": [],
   "source": [
    "f = open(\"q0.db\", \"w\")\n",
    "\n",
    "i=0\n",
    "result_datalog=[]\n",
    "result_gac=[]\n",
    "while(i<10):\n",
    "    line=generate_database(i,0,True)\n",
    "    f.write(line)\n",
    "    \n",
    "    result = subprocess.run(['clingo','q0.db',\"datalog_query0.lp\"], stdout=subprocess.PIPE, universal_newlines=True)\n",
    "    tmp = result.stdout.split(\"CPU Time     : \")\n",
    "    result_datalog.append(tmp[1].split(\"s\")[0])\n",
    "    if(\"unsatisfied\" in tmp[0]):\n",
    "        print(\"Unsatisfied detected\")\n",
    "        break\n",
    "\n",
    "    result = subprocess.run(['clingo','q0.db',\"gac_query0.lp\"], stdout=subprocess.PIPE, universal_newlines=True)\n",
    "    tmp = result.stdout.split(\"CPU Time     : \")\n",
    "    result_gac.append(tmp[1].split(\"s\")[0])\n",
    "    if(\"unsatisfied\" in tmp[0]):\n",
    "        print(\"Unsatisfied detected\")\n",
    "        break\n",
    "        \n",
    "        \n",
    "    i=i+1\n",
    "\n",
    "\n",
    "f.close()"
   ]
  },
  {
   "cell_type": "code",
   "execution_count": 22,
   "id": "908e863a",
   "metadata": {},
   "outputs": [
    {
     "name": "stdout",
     "output_type": "stream",
     "text": [
      "['0.156', '0.281', '0.500', '0.516', '0.391', '0.781', '0.922', '0.641', '1.156', '1.281']\n",
      "['0.359', '0.578', '0.734', '0.906', '0.656', '0.734', '1.344', '0.875', '0.953', '1.781']\n"
     ]
    }
   ],
   "source": [
    "print(result_datalog)\n",
    "print(result_gac)"
   ]
  },
  {
   "cell_type": "code",
   "execution_count": null,
   "id": "c3b4b62c",
   "metadata": {},
   "outputs": [],
   "source": [
    "f = open(\"q0_inconsistent.db\", \"w\")\n",
    "\n",
    "i=0\n",
    "result_datalog=[]\n",
    "result_gac=[]\n",
    "while(i<10):\n",
    "    line=generate_database(i,0,True)\n",
    "    f.write(line)\n",
    "    \n",
    "    result = subprocess.run(['clingo','q0.db',\"datalog_query0.lp\"], stdout=subprocess.PIPE, universal_newlines=True)\n",
    "    result_datalog.append(result.stdout.split(\"CPU Time     : \")[1].split(\"s\")[0])\n",
    "\n",
    "    result = subprocess.run(['clingo','q0.db',\"gac_query0.lp\"], stdout=subprocess.PIPE, universal_newlines=True)\n",
    "    result_gac.append(result.stdout.split(\"CPU Time     : \")[1].split(\"s\")[0])\n",
    "    \n",
    "    i=i+1\n",
    "\n",
    "\n",
    "f.close()"
   ]
  },
  {
   "cell_type": "code",
   "execution_count": 10,
   "id": "9867f106",
   "metadata": {},
   "outputs": [
    {
     "name": "stdout",
     "output_type": "stream",
     "text": [
      "0\n",
      "1\n",
      "1\n"
     ]
    }
   ],
   "source": []
  },
  {
   "cell_type": "code",
   "execution_count": null,
   "id": "a551e21c",
   "metadata": {},
   "outputs": [],
   "source": []
  }
 ],
 "metadata": {
  "kernelspec": {
   "display_name": "Python 3 (ipykernel)",
   "language": "python",
   "name": "python3"
  },
  "language_info": {
   "codemirror_mode": {
    "name": "ipython",
    "version": 3
   },
   "file_extension": ".py",
   "mimetype": "text/x-python",
   "name": "python",
   "nbconvert_exporter": "python",
   "pygments_lexer": "ipython3",
   "version": "3.9.7"
  }
 },
 "nbformat": 4,
 "nbformat_minor": 5
}
