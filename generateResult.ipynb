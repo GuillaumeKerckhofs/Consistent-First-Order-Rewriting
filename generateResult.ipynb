{
 "cells": [
  {
   "cell_type": "code",
   "execution_count": 2,
   "id": "990c138a",
   "metadata": {},
   "outputs": [],
   "source": [
    "import subprocess"
   ]
  },
  {
   "cell_type": "code",
   "execution_count": 17,
   "id": "511f6c23",
   "metadata": {},
   "outputs": [
    {
     "name": "stdout",
     "output_type": "stream",
     "text": [
      "clingo version 5.6.2\n",
      "Reading from q0.db ...\n",
      "Solving...\n",
      "Answer: 1\n",
      "satisfied\n",
      "SATISFIABLE\n",
      "\n",
      "Models       : 1\n",
      "Calls        : 1\n",
      "Time         : 2.488s (Solving: 0.00s 1st Model: 0.00s Unsat: 0.00s)\n",
      "CPU Time     : 2.391s\n"
     ]
    }
   ],
   "source": [
    "!clingo q0.db datalog_query0.lp"
   ]
  },
  {
   "cell_type": "code",
   "execution_count": 7,
   "id": "f2bb7f23",
   "metadata": {},
   "outputs": [
    {
     "name": "stderr",
     "output_type": "stream",
     "text": [
      "IOPub data rate exceeded.\n",
      "The notebook server will temporarily stop sending output\n",
      "to the client in order to avoid crashing it.\n",
      "To change this limit, set the config variable\n",
      "`--NotebookApp.iopub_data_rate_limit`.\n",
      "\n",
      "Current values:\n",
      "NotebookApp.iopub_data_rate_limit=1000000.0 (bytes/sec)\n",
      "NotebookApp.rate_limit_window=3.0 (secs)\n",
      "\n"
     ]
    }
   ],
   "source": [
    "!clingo q0.db gac_query0.lp"
   ]
  },
  {
   "cell_type": "code",
   "execution_count": 53,
   "id": "23bc186c",
   "metadata": {},
   "outputs": [
    {
     "name": "stdout",
     "output_type": "stream",
     "text": [
      "clingo version 5.6.2\n",
      "Reading from query1.db ...\n",
      "Solving...\n",
      "Answer: 1\n",
      "satisfied\n",
      "SATISFIABLE\n",
      "\n",
      "Models       : 1\n",
      "Calls        : 1\n",
      "Time         : 0.007s (Solving: 0.00s 1st Model: 0.00s Unsat: 0.00s)\n",
      "CPU Time     : 0.000s\n"
     ]
    }
   ],
   "source": [
    "!clingo query1.db datalog_query1.lp"
   ]
  },
  {
   "cell_type": "code",
   "execution_count": 54,
   "id": "a555ef93",
   "metadata": {},
   "outputs": [
    {
     "name": "stdout",
     "output_type": "stream",
     "text": [
      "clingo version 5.6.2\n",
      "Reading from query1.db ...\n",
      "Solving...\n",
      "Answer: 1\n",
      "p(1,1,1,1) p(2,2,3,2) vrow(100,r,x,x) vrow(100,r,y,y) vrow(100,r,z,z) vrow(100,r,w,w) kd(1,r,x) kd(2,r,y) kd(3,r,z)\n",
      "SATISFIABLE\n",
      "\n",
      "Models       : 1\n",
      "Calls        : 1\n",
      "Time         : 0.001s (Solving: 0.00s 1st Model: 0.00s Unsat: 0.00s)\n",
      "CPU Time     : 0.000s\n"
     ]
    }
   ],
   "source": [
    "!clingo query1.db gac_query1.lp"
   ]
  },
  {
   "cell_type": "code",
   "execution_count": 20,
   "id": "0442fa59",
   "metadata": {},
   "outputs": [],
   "source": [
    "f = open(\"q0.db\", \"w\")\n",
    "\n",
    "i=0\n",
    "result_datalog=[]\n",
    "result_gac=[]\n",
    "while(i<100000):\n",
    "    line=f'p({i},{(i+((i+1)%2))},{(i+(i%2))*2}). s({i+((i+1)%2)},0). r({(i+(i%2))*2},{i+3},c). '\n",
    "    f.write(line)\n",
    "    \n",
    "    if(i%10000==0):\n",
    "        result = subprocess.run(['clingo','q0.db',\"datalog_query0.lp\"], stdout=subprocess.PIPE, universal_newlines=True)\n",
    "        result_datalog.append(result.stdout.split(\"CPU Time     : \")[1].split(\"s\")[0])\n",
    "\n",
    "        result = subprocess.run(['clingo','q0.db',\"gac_query0.lp\"], stdout=subprocess.PIPE, universal_newlines=True)\n",
    "        result_datalog.append(result.stdout.split(\"CPU Time     : \")[1].split(\"s\")[0])\n",
    "    i=i+1\n",
    "\n",
    "\n",
    "f.close()"
   ]
  },
  {
   "cell_type": "code",
   "execution_count": 16,
   "id": "908e863a",
   "metadata": {},
   "outputs": [
    {
     "data": {
      "text/plain": [
       "['0.000',\n",
       " '0.016',\n",
       " '0.234',\n",
       " '0.859',\n",
       " '0.422',\n",
       " '1.578',\n",
       " '0.750',\n",
       " '2.391',\n",
       " '1.031',\n",
       " '3.781',\n",
       " '1.422',\n",
       " '4.406',\n",
       " '1.641',\n",
       " '5.484',\n",
       " '2.094',\n",
       " '6.234',\n",
       " '1.766',\n",
       " '5.063',\n",
       " '1.328',\n",
       " '6.531']"
      ]
     },
     "execution_count": 16,
     "metadata": {},
     "output_type": "execute_result"
    }
   ],
   "source": [
    "result_datalog"
   ]
  },
  {
   "cell_type": "code",
   "execution_count": null,
   "id": "c3b4b62c",
   "metadata": {},
   "outputs": [],
   "source": [
    "f = open(\"q1.db\", \"w\")\n",
    "\n",
    "i=0\n",
    "result_datalog=[]\n",
    "result_gac=[]\n",
    "while(i<100000):\n",
    "    line=f'p({i},{2*(i)},{3*i},{4*i}). '\n",
    "    f.write(line)\n",
    "    \n",
    "    if(i%10000==0):\n",
    "        result = subprocess.run(['clingo','q1.db',\"datalog_query1.lp\"], stdout=subprocess.PIPE, universal_newlines=True)\n",
    "        result_datalog.append(result.stdout.split(\"CPU Time     : \")[1].split(\"s\")[0])\n",
    "\n",
    "        result = subprocess.run(['clingo','q1.db',\"gac_query1.lp\"], stdout=subprocess.PIPE, universal_newlines=True)\n",
    "        result_datalog.append(result.stdout.split(\"CPU Time     : \")[1].split(\"s\")[0])\n",
    "    i=i+1\n",
    "\n",
    "\n",
    "f.close()"
   ]
  },
  {
   "cell_type": "code",
   "execution_count": 10,
   "id": "9867f106",
   "metadata": {},
   "outputs": [
    {
     "name": "stdout",
     "output_type": "stream",
     "text": [
      "0\n",
      "1\n",
      "1\n"
     ]
    }
   ],
   "source": [
    "print(2%2)\n",
    "print(1%2)\n",
    "print(3%2)"
   ]
  },
  {
   "cell_type": "code",
   "execution_count": null,
   "id": "a551e21c",
   "metadata": {},
   "outputs": [],
   "source": []
  }
 ],
 "metadata": {
  "kernelspec": {
   "display_name": "Python 3 (ipykernel)",
   "language": "python",
   "name": "python3"
  },
  "language_info": {
   "codemirror_mode": {
    "name": "ipython",
    "version": 3
   },
   "file_extension": ".py",
   "mimetype": "text/x-python",
   "name": "python",
   "nbconvert_exporter": "python",
   "pygments_lexer": "ipython3",
   "version": "3.9.7"
  }
 },
 "nbformat": 4,
 "nbformat_minor": 5
}
