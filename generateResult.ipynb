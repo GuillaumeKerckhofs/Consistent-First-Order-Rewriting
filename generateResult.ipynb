{
 "cells": [
  {
   "cell_type": "code",
   "execution_count": 42,
   "id": "511f6c23",
   "metadata": {},
   "outputs": [
    {
     "name": "stdout",
     "output_type": "stream",
     "text": [
      "clingo version 5.6.2\n",
      "Reading from q0.db ...\n",
      "Solving...\n",
      "Answer: 1\n",
      "satisfied\n",
      "SATISFIABLE\n",
      "\n",
      "Models       : 1\n",
      "Calls        : 1\n",
      "Time         : 3.406s (Solving: 0.00s 1st Model: 0.00s Unsat: 0.00s)\n",
      "CPU Time     : 3.313s\n"
     ]
    }
   ],
   "source": [
    "!clingo q0.db datalog_query0.lp"
   ]
  },
  {
   "cell_type": "code",
   "execution_count": 47,
   "id": "f2bb7f23",
   "metadata": {},
   "outputs": [
    {
     "name": "stdout",
     "output_type": "stream",
     "text": [
      "clingo version 5.6.2\n",
      "Reading from query0.db ...\n",
      "Solving...\n",
      "UNSATISFIABLE\n",
      "\n",
      "Models       : 0\n",
      "Calls        : 1\n",
      "Time         : 0.002s (Solving: 0.00s 1st Model: 0.00s Unsat: 0.00s)\n",
      "CPU Time     : 0.000s\n"
     ]
    }
   ],
   "source": [
    "!clingo query0.db gac_query0.lp"
   ]
  },
  {
   "cell_type": "code",
   "execution_count": 53,
   "id": "23bc186c",
   "metadata": {},
   "outputs": [
    {
     "name": "stdout",
     "output_type": "stream",
     "text": [
      "clingo version 5.6.2\n",
      "Reading from query1.db ...\n",
      "Solving...\n",
      "Answer: 1\n",
      "satisfied\n",
      "SATISFIABLE\n",
      "\n",
      "Models       : 1\n",
      "Calls        : 1\n",
      "Time         : 0.007s (Solving: 0.00s 1st Model: 0.00s Unsat: 0.00s)\n",
      "CPU Time     : 0.000s\n"
     ]
    }
   ],
   "source": [
    "!clingo query1.db datalog_query1.lp"
   ]
  },
  {
   "cell_type": "code",
   "execution_count": 54,
   "id": "a555ef93",
   "metadata": {},
   "outputs": [
    {
     "name": "stdout",
     "output_type": "stream",
     "text": [
      "clingo version 5.6.2\n",
      "Reading from query1.db ...\n",
      "Solving...\n",
      "Answer: 1\n",
      "p(1,1,1,1) p(2,2,3,2) vrow(100,r,x,x) vrow(100,r,y,y) vrow(100,r,z,z) vrow(100,r,w,w) kd(1,r,x) kd(2,r,y) kd(3,r,z)\n",
      "SATISFIABLE\n",
      "\n",
      "Models       : 1\n",
      "Calls        : 1\n",
      "Time         : 0.001s (Solving: 0.00s 1st Model: 0.00s Unsat: 0.00s)\n",
      "CPU Time     : 0.000s\n"
     ]
    }
   ],
   "source": [
    "!clingo query1.db gac_query1.lp"
   ]
  },
  {
   "cell_type": "code",
   "execution_count": 40,
   "id": "0442fa59",
   "metadata": {},
   "outputs": [],
   "source": [
    "f = open(\"q0.db\", \"w\")\n",
    "\n",
    "i=0\n",
    "result_datalog=[]\n",
    "result_gac=[]\n",
    "while(i<100000):\n",
    "    line=f'p({i},{2*(i)},{3*i}). s({2*i},0). r({3*i},{i+3},c). '\n",
    "    f.write(line)\n",
    "    \n",
    "    if(i%10000==0):\n",
    "        result = subprocess.run(['clingo','q0.db',\"datalog_query0.lp\"], stdout=subprocess.PIPE, universal_newlines=True)\n",
    "        result_datalog.append(result.stdout.split(\"CPU Time     : \")[1].split(\"s\")[0])\n",
    "\n",
    "        result = subprocess.run(['clingo','q0.db',\"gac_query0.lp\"], stdout=subprocess.PIPE, universal_newlines=True)\n",
    "        result_datalog.append(result.stdout.split(\"CPU Time     : \")[1].split(\"s\")[0])\n",
    "    i=i+1\n",
    "\n",
    "\n",
    "f.close()"
   ]
  },
  {
   "cell_type": "code",
   "execution_count": 41,
   "id": "908e863a",
   "metadata": {},
   "outputs": [
    {
     "data": {
      "text/plain": [
       "['0.000',\n",
       " '0.000',\n",
       " '0.359',\n",
       " '1.250',\n",
       " '0.594',\n",
       " '2.313',\n",
       " '1.109',\n",
       " '3.922',\n",
       " '1.203',\n",
       " '5.438',\n",
       " '1.938',\n",
       " '7.188',\n",
       " '2.281',\n",
       " '8.000',\n",
       " '2.109',\n",
       " '6.156',\n",
       " '1.500',\n",
       " '8.453',\n",
       " '3.188',\n",
       " '7.422']"
      ]
     },
     "execution_count": 41,
     "metadata": {},
     "output_type": "execute_result"
    }
   ],
   "source": [
    "result_datalog"
   ]
  },
  {
   "cell_type": "code",
   "execution_count": null,
   "id": "c3b4b62c",
   "metadata": {},
   "outputs": [],
   "source": []
  }
 ],
 "metadata": {
  "kernelspec": {
   "display_name": "Python 3 (ipykernel)",
   "language": "python",
   "name": "python3"
  },
  "language_info": {
   "codemirror_mode": {
    "name": "ipython",
    "version": 3
   },
   "file_extension": ".py",
   "mimetype": "text/x-python",
   "name": "python",
   "nbconvert_exporter": "python",
   "pygments_lexer": "ipython3",
   "version": "3.9.7"
  }
 },
 "nbformat": 4,
 "nbformat_minor": 5
}
