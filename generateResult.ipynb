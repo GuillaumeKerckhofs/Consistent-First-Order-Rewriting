{
 "cells": [
  {
   "cell_type": "code",
   "execution_count": 27,
   "id": "511f6c23",
   "metadata": {},
   "outputs": [
    {
     "name": "stdout",
     "output_type": "stream",
     "text": [
      "clingo version 5.6.2\n",
      "Reading from query0.db ...\n",
      "Solving...\n",
      "UNSATISFIABLE\n",
      "\n",
      "Models       : 0\n",
      "Calls        : 1\n",
      "Time         : 0.001s (Solving: 0.00s 1st Model: 0.00s Unsat: 0.00s)\n",
      "CPU Time     : 0.000s\n"
     ]
    }
   ],
   "source": [
    "!clingo query0.db datalog_query0.lp"
   ]
  },
  {
   "cell_type": "code",
   "execution_count": 29,
   "id": "f2bb7f23",
   "metadata": {},
   "outputs": [
    {
     "name": "stdout",
     "output_type": "stream",
     "text": [
      "clingo version 5.6.2\n",
      "Reading from query0.db ...\n",
      "Solving...\n",
      "UNSATISFIABLE\n",
      "\n",
      "Models       : 0\n",
      "Calls        : 1\n",
      "Time         : 0.001s (Solving: 0.00s 1st Model: 0.00s Unsat: 0.00s)\n",
      "CPU Time     : 0.000s\n"
     ]
    }
   ],
   "source": [
    "!clingo query0.db gac_query0.lp"
   ]
  },
  {
   "cell_type": "code",
   "execution_count": null,
   "id": "23bc186c",
   "metadata": {},
   "outputs": [],
   "source": []
  },
  {
   "cell_type": "code",
   "execution_count": null,
   "id": "a555ef93",
   "metadata": {},
   "outputs": [],
   "source": []
  }
 ],
 "metadata": {
  "kernelspec": {
   "display_name": "Python 3 (ipykernel)",
   "language": "python",
   "name": "python3"
  },
  "language_info": {
   "codemirror_mode": {
    "name": "ipython",
    "version": 3
   },
   "file_extension": ".py",
   "mimetype": "text/x-python",
   "name": "python",
   "nbconvert_exporter": "python",
   "pygments_lexer": "ipython3",
   "version": "3.9.7"
  }
 },
 "nbformat": 4,
 "nbformat_minor": 5
}
